{
  "cells": [
    {
      "cell_type": "markdown",
      "id": "5fa8dcf6",
      "metadata": {
        "id": "5fa8dcf6"
      },
      "source": [
        "# Superhero Database Assignment (SQLite & Google Colab)\n",
        "\n",
        "## Objective\n",
        "In this assignment, you will design and implement a **Superhero Database** using SQLite in Google Colab. This database will store superheroes, villains, and their battles. You will write SQL queries to analyze battle outcomes and relationships between heroes and villains.\n",
        "\n",
        "### Group Size:\n",
        "- 2 to 3 students per group.\n",
        "\n",
        "### Tools Required:\n",
        "- **Google Colab**\n",
        "- **SQLite (built into Python)**\n",
        "- **CSV files (provided for import)**"
      ]
    },
    {
      "cell_type": "markdown",
      "id": "5535e625",
      "metadata": {
        "id": "5535e625"
      },
      "source": [
        "## Step 1: Setting Up Your SQLite Database\n",
        "\n",
        "### Tasks:\n",
        "1. Initialize SQLite in Google Colab.\n",
        "2. Create a database named `superhero_db.sqlite`.\n",
        "3. Define the database schema, ensuring it includes the following tables:\n",
        "   - `heroes`: Stores superhero names, powers, and teams.\n",
        "   - `villains`: Stores villains and their evil plans.\n",
        "   - `battles`: Tracks battles between heroes and villains, including the outcome.\n",
        "4. Implement primary keys and foreign keys where appropriate.\n",
        "\n",
        "✅ **Checkpoint:** Ensure that the database and tables have been successfully created."
      ]
    },
    {
      "cell_type": "markdown",
      "id": "154b3c3a",
      "metadata": {
        "id": "154b3c3a"
      },
      "source": [
        "## Step 2: Import Data from CSV Files\n",
        "\n",
        "### Tasks:\n",
        "1. Download the provided CSV files.\n",
        "2. Upload them to Google Colab.\n",
        "3. Write a script to import data from these files into the appropriate tables.\n",
        "4. Verify that the data has been successfully inserted.\n",
        "\n",
        "✅ **Checkpoint:** Ensure that each table contains the expected data from the CSV files."
      ]
    },
    {
      "cell_type": "code",
      "source": [
        "import sqlite3\n",
        "import pandas as pd\n",
        "\n",
        "connection = sqlite3.connect(\"superhero_db.sqlite\")\n",
        "cursor = connection.cursor()\n",
        "\n",
        "\n",
        "df_battles = pd.read_csv('battles.csv')\n",
        "df_heroes = pd.read_csv('heroes.csv')\n",
        "df_villains = pd.read_csv('villains.csv')\n",
        "\n",
        "# Display the first few rows of the DataFrame\n",
        "print(df_battles.head())\n",
        "print(df_heroes.head())\n",
        "print(df_villains.head())\n",
        "\n",
        "# Insert data from the DataFrame into the sales table\n",
        "df_battles.to_sql('battles', connection, if_exists='replace', index=False)\n",
        "print(\"Data from CSV has been inserted into the battles table.\")\n",
        "\n",
        "df_heroes.to_sql('heroes', connection, if_exists='replace', index=False)\n",
        "print(\"Data from CSV has been inserted into the heroes table.\")\n",
        "\n",
        "df_villains.to_sql('villains', connection, if_exists='replace', index=False)\n",
        "print(\"Data from CSV has been inserted into the villians table.\")\n",
        "\n",
        "# Fetch all data from the sales table\n",
        "cursor.execute(\"SELECT * FROM battles\")\n",
        "battles_data = cursor.fetchall()\n",
        "\n",
        "cursor.execute(\"SELECT * FROM heroes\")\n",
        "heroes_data = cursor.fetchall()\n",
        "\n",
        "cursor.execute(\"SELECT * FROM villains\")\n",
        "villians_data = cursor.fetchall()\n",
        "\n",
        "# Print the results\n",
        "print(\"All battles data:\")\n",
        "for row in battles_data:\n",
        "    print(row)\n",
        "\n",
        "print(\"\\nAll heroes data:\")\n",
        "for row in heroes_data:\n",
        "    print(row)\n",
        "\n",
        "print(\"\\nAll villains data:\")\n",
        "for row in villians_data:\n",
        "    print(row)\n",
        "\n",
        "connection.commit()\n",
        "connection.close()"
      ],
      "metadata": {
        "id": "n2q93TiXCEKe",
        "outputId": "5b7ac90e-f51b-41ee-dd09-fe550b8b99a4",
        "colab": {
          "base_uri": "https://localhost:8080/"
        }
      },
      "id": "n2q93TiXCEKe",
      "execution_count": null,
      "outputs": [
        {
          "output_type": "stream",
          "name": "stdout",
          "text": [
            "   id  hero_id  villain_id       outcome\n",
            "0   1        1          10  Villain Wins\n",
            "1   2        9           3     Hero Wins\n",
            "2   3        8           1          Draw\n",
            "3   4        5           4  Villain Wins\n",
            "4   5        1           7     Hero Wins\n",
            "   id        name             power            team\n",
            "0   1  Spider-Man      Web-slinging        Avengers\n",
            "1   2    Iron Man     Powered Armor        Avengers\n",
            "2   3      Batman  Genius Detective  Justice League\n",
            "3   4    Superman    Super Strength  Justice League\n",
            "4   5        Thor    God of Thunder        Avengers\n",
            "   id          name                           evil_plan\n",
            "0   1  Green Goblin                  Terrorize New York\n",
            "1   2        Thanos         Collect all Infinity Stones\n",
            "2   3         Joker              Spread chaos in Gotham\n",
            "3   4    Lex Luthor                     Defeat Superman\n",
            "4   5          Loki  Trick humanity into worshiping him\n",
            "Data from CSV has been inserted into the battles table.\n",
            "Data from CSV has been inserted into the heroes table.\n",
            "Data from CSV has been inserted into the villians table.\n",
            "All battles data:\n",
            "(1, 1, 10, 'Villain Wins')\n",
            "(2, 9, 3, 'Hero Wins')\n",
            "(3, 8, 1, 'Draw')\n",
            "(4, 5, 4, 'Villain Wins')\n",
            "(5, 1, 7, 'Hero Wins')\n",
            "(6, 2, 8, 'Villain Wins')\n",
            "(7, 9, 8, 'Hero Wins')\n",
            "(8, 3, 2, 'Hero Wins')\n",
            "(9, 7, 5, 'Hero Wins')\n",
            "(10, 3, 1, 'Draw')\n",
            "(11, 1, 8, 'Villain Wins')\n",
            "(12, 2, 1, 'Draw')\n",
            "(13, 8, 9, 'Hero Wins')\n",
            "(14, 8, 1, 'Draw')\n",
            "(15, 6, 10, 'Draw')\n",
            "(16, 1, 1, 'Villain Wins')\n",
            "(17, 8, 3, 'Draw')\n",
            "(18, 6, 3, 'Villain Wins')\n",
            "(19, 4, 8, 'Villain Wins')\n",
            "(20, 3, 4, 'Hero Wins')\n",
            "(21, 8, 1, 'Draw')\n",
            "(22, 4, 9, 'Draw')\n",
            "(23, 3, 9, 'Draw')\n",
            "(24, 8, 9, 'Villain Wins')\n",
            "(25, 2, 5, 'Draw')\n",
            "(26, 3, 7, 'Draw')\n",
            "(27, 10, 3, 'Draw')\n",
            "(28, 3, 8, 'Draw')\n",
            "(29, 3, 5, 'Hero Wins')\n",
            "(30, 5, 5, 'Hero Wins')\n",
            "\n",
            "All heroes data:\n",
            "(1, 'Spider-Man', 'Web-slinging', 'Avengers')\n",
            "(2, 'Iron Man', 'Powered Armor', 'Avengers')\n",
            "(3, 'Batman', 'Genius Detective', 'Justice League')\n",
            "(4, 'Superman', 'Super Strength', 'Justice League')\n",
            "(5, 'Thor', 'God of Thunder', 'Avengers')\n",
            "(6, 'Wonder Woman', 'Amazonian Strength', 'Justice League')\n",
            "(7, 'Black Panther', 'Enhanced Agility', 'Avengers')\n",
            "(8, 'The Flash', 'Super Speed', 'Justice League')\n",
            "(9, 'Hulk', 'Super Strength', 'Avengers')\n",
            "(10, 'Doctor Strange', 'Mystic Arts', 'Avengers')\n",
            "\n",
            "All villains data:\n",
            "(1, 'Green Goblin', 'Terrorize New York')\n",
            "(2, 'Thanos', 'Collect all Infinity Stones')\n",
            "(3, 'Joker', 'Spread chaos in Gotham')\n",
            "(4, 'Lex Luthor', 'Defeat Superman')\n",
            "(5, 'Loki', 'Trick humanity into worshiping him')\n",
            "(6, 'Ultron', 'AI world domination')\n",
            "(7, 'Darkseid', 'Control the universe')\n",
            "(8, 'Venom', 'Consume Spider-Man')\n",
            "(9, 'Magneto', 'Mutant supremacy')\n",
            "(10, 'Red Skull', 'Revive Hydra')\n"
          ]
        }
      ]
    },
    {
      "cell_type": "markdown",
      "id": "33548d9f",
      "metadata": {
        "id": "33548d9f"
      },
      "source": [
        "## Step 3: Querying the Database\n",
        "\n",
        "### Tasks:\n",
        "Write SQL queries to answer the following:\n",
        "1. Retrieve all superheroes and their powers.\n",
        "2. Find all battles where the hero won.\n",
        "3. List all villains and their evil plans.\n",
        "4. Determine which superhero has fought the most battles.\n",
        "\n",
        "✅ **Checkpoint:** Ensure that all queries return meaningful results from the database."
      ]
    },
    {
      "cell_type": "code",
      "source": [
        "import sqlite3\n",
        "\n",
        "connection = sqlite3.connect(\"superhero_db.sqlite\")\n",
        "cursor = connection.cursor()\n",
        "\n",
        "# Query 1: Retrieve all superheroes and their powers\n",
        "cursor.execute(\"SELECT name, power FROM heroes\")\n",
        "heroes_powers = cursor.fetchall()\n",
        "print(\"All superheroes and their powers:\")\n",
        "for row in heroes_powers:\n",
        "    print(row)\n",
        "\n",
        "# Query 2: Find all battles where the hero won\n",
        "cursor.execute(\"SELECT * FROM battles WHERE outcome = 'hero_won'\")\n",
        "hero_wins = cursor.fetchall()\n",
        "print(\"\\nBattles where the hero won:\")\n",
        "for battle in hero_wins:\n",
        "    print(battle)\n",
        "\n",
        "# Query 3: List all villains and their evil plans\n",
        "cursor.execute(\"SELECT name, evil_plan FROM villains\")\n",
        "villains_plans = cursor.fetchall()\n",
        "print(\"\\nVillains and their Evil Plans:\")\n",
        "for villain in villains_plans:\n",
        "    print(villain)\n",
        "\n",
        "# Query 4: Determine which superhero has fought the most battles\n",
        "cursor.execute(\"\"\"\n",
        "    SELECT hero_id, COUNT(*) AS battle_count\n",
        "    FROM battles\n",
        "    GROUP BY hero_id\n",
        "    ORDER BY battle_count DESC\n",
        "    LIMIT 1\n",
        "\"\"\")\n",
        "top_hero = cursor.fetchone()\n",
        "print(\"\\nSuperhero with the most battles:\")\n",
        "print(top_hero)\n",
        "\n",
        "connection.close()\n"
      ],
      "metadata": {
        "id": "sUd3esvSCcmy",
        "outputId": "5ffbb92d-eee9-496f-e3f8-b9c6cae67c50",
        "colab": {
          "base_uri": "https://localhost:8080/"
        }
      },
      "id": "sUd3esvSCcmy",
      "execution_count": null,
      "outputs": [
        {
          "output_type": "stream",
          "name": "stdout",
          "text": [
            "All superheroes and their powers:\n",
            "('Spider-Man', 'Web-slinging')\n",
            "('Iron Man', 'Powered Armor')\n",
            "('Batman', 'Genius Detective')\n",
            "('Superman', 'Super Strength')\n",
            "('Thor', 'God of Thunder')\n",
            "('Wonder Woman', 'Amazonian Strength')\n",
            "('Black Panther', 'Enhanced Agility')\n",
            "('The Flash', 'Super Speed')\n",
            "('Hulk', 'Super Strength')\n",
            "('Doctor Strange', 'Mystic Arts')\n",
            "\n",
            "Battles where the hero won:\n",
            "\n",
            "Villains and their Evil Plans:\n",
            "('Green Goblin', 'Terrorize New York')\n",
            "('Thanos', 'Collect all Infinity Stones')\n",
            "('Joker', 'Spread chaos in Gotham')\n",
            "('Lex Luthor', 'Defeat Superman')\n",
            "('Loki', 'Trick humanity into worshiping him')\n",
            "('Ultron', 'AI world domination')\n",
            "('Darkseid', 'Control the universe')\n",
            "('Venom', 'Consume Spider-Man')\n",
            "('Magneto', 'Mutant supremacy')\n",
            "('Red Skull', 'Revive Hydra')\n",
            "\n",
            "Superhero with the most battles:\n",
            "(3, 7)\n"
          ]
        }
      ]
    },
    {
      "cell_type": "markdown",
      "id": "de8bda94",
      "metadata": {
        "id": "de8bda94"
      },
      "source": [
        "## Step 4: Add a Custom Feature\n",
        "\n",
        "### Tasks:\n",
        "1. Design and implement an additional table related to superheroes or villains.\n",
        "2. Populate it with data.\n",
        "3. Write at least one query to retrieve meaningful insights from the new table.\n",
        "\n",
        "**Examples of Custom Features:**\n",
        "- Sidekicks for superheroes\n",
        "- Villain hideouts\n",
        "- Battle locations\n",
        "- Superhero equipment\n",
        "\n",
        "✅ **Checkpoint:** Ensure that the new table and queries function correctly."
      ]
    },
    {
      "cell_type": "code",
      "source": [
        "connection = sqlite3.connect(\"superhero_db.sqlite\")\n",
        "cursor = connection.cursor()\n",
        "\n",
        "# sidekicks table\n",
        "cursor.execute(\"\"\"\n",
        "    CREATE TABLE IF NOT EXISTS sidekicks (\n",
        "        id INTEGER PRIMARY KEY AUTOINCREMENT,\n",
        "        hero_name TEXT,\n",
        "        sidekick_name TEXT,\n",
        "        FOREIGN KEY (hero_name) REFERENCES heroes(name)\n",
        "    )\n",
        "\"\"\")\n",
        "\n",
        "print(\"Sidekicks table created successfully.\")\n",
        "\n",
        "connection.commit()\n",
        "connection.close()\n"
      ],
      "metadata": {
        "id": "vIc0_3YeDAEx",
        "outputId": "a2ead020-12ab-4fcc-f665-9e07bfa4b985",
        "colab": {
          "base_uri": "https://localhost:8080/"
        }
      },
      "id": "vIc0_3YeDAEx",
      "execution_count": null,
      "outputs": [
        {
          "output_type": "stream",
          "name": "stdout",
          "text": [
            "Sidekicks table created successfully.\n"
          ]
        }
      ]
    },
    {
      "cell_type": "markdown",
      "id": "9bf43fe6",
      "metadata": {
        "id": "9bf43fe6"
      },
      "source": [
        "## Bonus Challenge (+5 Points)\n",
        "\n",
        "### Tasks:\n",
        "1. Enhance your project by adding a visual or interactive component.\n",
        "\n",
        "**Options:**\n",
        "- Visualize battles using Matplotlib (e.g., a bar chart showing how many battles each superhero has fought).\n",
        "- Make it interactive (e.g., allow users to input a superhero name and display their battles).\n",
        "\n",
        "✅ **Checkpoint:** If attempting the bonus, ensure that your visualization or interactive component works correctly."
      ]
    },
    {
      "cell_type": "code",
      "source": [
        "import sqlite3\n",
        "import matplotlib.pyplot as plt\n",
        "\n",
        "connection = sqlite3.connect(\"superhero_db.sqlite\")\n",
        "cursor = connection.cursor()\n",
        "\n",
        "# Query to count battles per superhero\n",
        "cursor.execute(\"\"\"\n",
        "    SELECT hero_id, COUNT(*) AS battle_count\n",
        "    FROM battles\n",
        "    GROUP BY hero_id\n",
        "\"\"\")\n",
        "battle_counts = cursor.fetchall()\n",
        "\n",
        "connection.close()\n",
        "\n",
        "# Prepare data for visualization\n",
        "hero_ids = [row[0] for row in battle_counts]\n",
        "battle_counts = [row[1] for row in battle_counts]\n",
        "\n",
        "# Plot the data\n",
        "plt.bar(hero_ids, battle_counts)\n",
        "plt.xlabel('Hero ID')\n",
        "plt.ylabel('Number of Battles')\n",
        "plt.title('Battles per Superhero')\n",
        "plt.show()\n"
      ],
      "metadata": {
        "id": "LxNWXZJTDFgB",
        "outputId": "bd8a8cb4-c169-4508-8b56-e4d5a6e723a2",
        "colab": {
          "base_uri": "https://localhost:8080/",
          "height": 472
        }
      },
      "id": "LxNWXZJTDFgB",
      "execution_count": null,
      "outputs": [
        {
          "output_type": "display_data",
          "data": {
            "text/plain": [
              "<Figure size 640x480 with 1 Axes>"
            ],
            "image/png": "[encoded data removed]"
          },
          "metadata": {}
        }
      ]
    },
    {
      "cell_type": "markdown",
      "id": "89f56c05",
      "metadata": {
        "id": "89f56c05"
      },
      "source": [
        "## Submission Guidelines\n",
        "\n",
        "Each group must submit a **Google Colab Notebook (.ipynb)** containing:\n",
        "- ✅ **Database schema (DDL)**\n",
        "- ✅ **CSV imports & data insertion (DML)**\n",
        "- ✅ **SQL queries & results**\n",
        "- ✅ **Custom feature (bonus if applicable)**"
      ]
    },
    {
      "cell_type": "markdown",
      "id": "61477c9b",
      "metadata": {
        "id": "61477c9b"
      },
      "source": [
        "## Grading Criteria (Total: 25 Points)\n",
        "\n",
        "| Section                 | Points |\n",
        "|-------------------------|--------|\n",
        "| Database Setup          | 5      |\n",
        "| Data Importing         | 10     |\n",
        "| Querying the Data      | 10     |\n",
        "| Extra Feature          | 5      |\n",
        "| Bonus Challenge (Optional) | +5  |"
      ]
    },
    {
      "cell_type": "markdown",
      "id": "92bf6839",
      "metadata": {
        "id": "92bf6839"
      },
      "source": [
        "### Final Notes:\n",
        "- Be **creative** when designing superheroes and villains.\n",
        "- **Comment your code** to explain its functionality.\n",
        "- **Have fun** building your superhero universe!"
      ]
    }
  ],
  "metadata": {
    "colab": {
      "provenance": []
    },
    "language_info": {
      "name": "python"
    },
    "kernelspec": {
      "name": "python3",
      "display_name": "Python 3"
    }
  },
  "nbformat": 4,
  "nbformat_minor": 5
}