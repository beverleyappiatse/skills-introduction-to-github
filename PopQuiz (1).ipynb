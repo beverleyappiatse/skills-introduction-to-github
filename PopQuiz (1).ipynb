{
  "nbformat": 4,
  "nbformat_minor": 0,
  "metadata": {
    "colab": {
      "provenance": []
    },
    "kernelspec": {
      "name": "python3",
      "display_name": "Python 3"
    },
    "language_info": {
      "name": "python"
    }
  },
  "cells": [
    {
      "cell_type": "code",
      "execution_count": 1,
      "metadata": {
        "colab": {
          "base_uri": "https://localhost:8080/"
        },
        "id": "XG46zAPM3X5k",
        "outputId": "ed13080d-0bef-46de-83eb-532283944c16"
      },
      "outputs": [
        {
          "output_type": "stream",
          "name": "stdout",
          "text": [
            "Tail Number: N350XX\n",
            "Departure Airport: Cairo International Airport\n",
            "Arrival Airport: Frankfurt International Airport\n",
            "Departure Time: 2025-02-25T01:45:00+00:00\n",
            "Arrival Time: 2025-02-25T05:25:00+00:00\n",
            "Airline: Lufthansa\n",
            "Flight Number: 581\n",
            "Status: scheduled\n",
            "----------------------------------------\n",
            "Tail Number: N621MM\n",
            "Departure Airport: Cairo International Airport\n",
            "Arrival Airport: Frankfurt International Airport\n",
            "Departure Time: 2025-02-25T01:45:00+00:00\n",
            "Arrival Time: 2025-02-25T05:25:00+00:00\n",
            "Airline: Lufthansa\n",
            "Flight Number: 581\n",
            "Status: scheduled\n",
            "----------------------------------------\n",
            "Tail Number: N700KS\n",
            "Departure Airport: Cairo International Airport\n",
            "Arrival Airport: Frankfurt International Airport\n",
            "Departure Time: 2025-02-25T01:45:00+00:00\n",
            "Arrival Time: 2025-02-25T05:25:00+00:00\n",
            "Airline: Lufthansa\n",
            "Flight Number: 581\n",
            "Status: scheduled\n",
            "----------------------------------------\n"
          ]
        }
      ],
      "source": [
        "import requests\n",
        "\n",
        "# aviationstack API access key\n",
        "api_key = ''\n",
        "\n",
        "# base URL for Aviationstack API\n",
        "base_url = 'http://api.aviationstack.com/v1/flights'\n",
        "\n",
        "# tail numbers to track\n",
        "tail_numbers = ['N350XX', 'N621MM', 'N700KS']  # plus third tail\n",
        "\n",
        "# function to get recent flights for a given tail number\n",
        "def get_recent_flights(tail_number):\n",
        "    params = {\n",
        "        'access_key': api_key,\n",
        "        'reg_number': tail_number\n",
        "    }\n",
        "    response = requests.get(base_url, params=params)\n",
        "\n",
        "    if response.status_code == 200:\n",
        "        data = response.json()\n",
        "        flights = data.get('data', [])\n",
        "        if flights:\n",
        "            latest_flight = flights[0]  # most recent flight\n",
        "            return {\n",
        "                'tail_number': tail_number,\n",
        "                'departure_airport': latest_flight.get('departure', {}).get('airport', 'N/A'),\n",
        "                'arrival_airport': latest_flight.get('arrival', {}).get('airport', 'N/A'),\n",
        "                'departure_time': latest_flight.get('departure', {}).get('estimated', 'N/A'),\n",
        "                'arrival_time': latest_flight.get('arrival', {}).get('estimated', 'N/A'),\n",
        "                'airline': latest_flight.get('airline', {}).get('name', 'N/A'),\n",
        "                'flight_number': latest_flight.get('flight', {}).get('number', 'N/A'),\n",
        "                'status': latest_flight.get('flight_status', 'N/A')\n",
        "            }\n",
        "        else:\n",
        "            return {'tail_number': tail_number, 'error': 'No recent flights found.'}\n",
        "    else:\n",
        "        return {'tail_number': tail_number, 'error': f'Error {response.status_code}: {response.text}'}\n",
        "\n",
        "# retrieve and display flight information for each tail number\n",
        "for tail_number in tail_numbers:\n",
        "    flight_info = get_recent_flights(tail_number)\n",
        "    if 'error' in flight_info:\n",
        "        print(f\"Error retrieving data for {tail_number}: {flight_info['error']}\")\n",
        "    else:\n",
        "        print(f\"Tail Number: {flight_info['tail_number']}\")\n",
        "        print(f\"Departure Airport: {flight_info['departure_airport']}\")\n",
        "        print(f\"Arrival Airport: {flight_info['arrival_airport']}\")\n",
        "        print(f\"Departure Time: {flight_info['departure_time']}\")\n",
        "        print(f\"Arrival Time: {flight_info['arrival_time']}\")\n",
        "        print(f\"Airline: {flight_info['airline']}\")\n",
        "        print(f\"Flight Number: {flight_info['flight_number']}\")\n",
        "        print(f\"Status: {flight_info['status']}\")\n",
        "        print(\"-\" * 40)\n"
      ]
    }
  ]
}