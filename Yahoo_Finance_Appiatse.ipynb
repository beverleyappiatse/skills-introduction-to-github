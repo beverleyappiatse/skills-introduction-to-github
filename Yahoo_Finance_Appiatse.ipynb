{
  "nbformat": 4,
  "nbformat_minor": 0,
  "metadata": {
    "colab": {
      "provenance": []
    },
    "kernelspec": {
      "name": "python3",
      "display_name": "Python 3"
    },
    "language_info": {
      "name": "python"
    }
  },
  "cells": [
    {
      "cell_type": "code",
      "execution_count": 3,
      "metadata": {
        "colab": {
          "base_uri": "https://localhost:8080/",
          "height": 382
        },
        "id": "A0a8D2_FJf1y",
        "outputId": "b28fef9d-7df1-4571-c7ac-d554de212ce5"
      },
      "outputs": [
        {
          "output_type": "stream",
          "name": "stdout",
          "text": [
            "Task 1: Fetch Basic Stock Data\n"
          ]
        },
        {
          "output_type": "error",
          "ename": "KeyboardInterrupt",
          "evalue": "Interrupted by user",
          "traceback": [
            "\u001b[0;31m---------------------------------------------------------------------------\u001b[0m",
            "\u001b[0;31mKeyboardInterrupt\u001b[0m                         Traceback (most recent call last)",
            "\u001b[0;32m<ipython-input-3-5c734da2dc33>\u001b[0m in \u001b[0;36m<cell line: 0>\u001b[0;34m()\u001b[0m\n\u001b[1;32m     92\u001b[0m \u001b[0;32mif\u001b[0m \u001b[0m__name__\u001b[0m \u001b[0;34m==\u001b[0m \u001b[0;34m\"__main__\"\u001b[0m\u001b[0;34m:\u001b[0m\u001b[0;34m\u001b[0m\u001b[0;34m\u001b[0m\u001b[0m\n\u001b[1;32m     93\u001b[0m     \u001b[0mprint\u001b[0m\u001b[0;34m(\u001b[0m\u001b[0;34m\"Task 1: Fetch Basic Stock Data\"\u001b[0m\u001b[0;34m)\u001b[0m\u001b[0;34m\u001b[0m\u001b[0;34m\u001b[0m\u001b[0m\n\u001b[0;32m---> 94\u001b[0;31m     \u001b[0mfetch_basic_stock_data\u001b[0m\u001b[0;34m(\u001b[0m\u001b[0;34m)\u001b[0m\u001b[0;34m\u001b[0m\u001b[0;34m\u001b[0m\u001b[0m\n\u001b[0m\u001b[1;32m     95\u001b[0m \u001b[0;34m\u001b[0m\u001b[0m\n\u001b[1;32m     96\u001b[0m     \u001b[0mprint\u001b[0m\u001b[0;34m(\u001b[0m\u001b[0;34m\"\\nTask 2.1: Fetch Additional Data Using Modules\"\u001b[0m\u001b[0;34m)\u001b[0m\u001b[0;34m\u001b[0m\u001b[0;34m\u001b[0m\u001b[0m\n",
            "\u001b[0;32m<ipython-input-3-5c734da2dc33>\u001b[0m in \u001b[0;36mfetch_basic_stock_data\u001b[0;34m()\u001b[0m\n\u001b[1;32m     15\u001b[0m \u001b[0;32mdef\u001b[0m \u001b[0mfetch_basic_stock_data\u001b[0m\u001b[0;34m(\u001b[0m\u001b[0;34m)\u001b[0m\u001b[0;34m:\u001b[0m\u001b[0;34m\u001b[0m\u001b[0;34m\u001b[0m\u001b[0m\n\u001b[1;32m     16\u001b[0m     \u001b[0;34m\"\"\"Fetch stock ticker, company name, and current price for user-input symbols.\"\"\"\u001b[0m\u001b[0;34m\u001b[0m\u001b[0;34m\u001b[0m\u001b[0m\n\u001b[0;32m---> 17\u001b[0;31m     \u001b[0msymbols\u001b[0m \u001b[0;34m=\u001b[0m \u001b[0minput\u001b[0m\u001b[0;34m(\u001b[0m\u001b[0;34m\"Enter stock symbols (comma-separated): \"\u001b[0m\u001b[0;34m)\u001b[0m\u001b[0;34m.\u001b[0m\u001b[0msplit\u001b[0m\u001b[0;34m(\u001b[0m\u001b[0;34m\",\"\u001b[0m\u001b[0;34m)\u001b[0m\u001b[0;34m\u001b[0m\u001b[0;34m\u001b[0m\u001b[0m\n\u001b[0m\u001b[1;32m     18\u001b[0m     \u001b[0msymbols\u001b[0m \u001b[0;34m=\u001b[0m \u001b[0;34m[\u001b[0m\u001b[0msymbol\u001b[0m\u001b[0;34m.\u001b[0m\u001b[0mstrip\u001b[0m\u001b[0;34m(\u001b[0m\u001b[0;34m)\u001b[0m\u001b[0;34m.\u001b[0m\u001b[0mupper\u001b[0m\u001b[0;34m(\u001b[0m\u001b[0;34m)\u001b[0m \u001b[0;32mfor\u001b[0m \u001b[0msymbol\u001b[0m \u001b[0;32min\u001b[0m \u001b[0msymbols\u001b[0m\u001b[0;34m]\u001b[0m\u001b[0;34m\u001b[0m\u001b[0;34m\u001b[0m\u001b[0m\n\u001b[1;32m     19\u001b[0m \u001b[0;34m\u001b[0m\u001b[0m\n",
            "\u001b[0;32m/usr/local/lib/python3.11/dist-packages/ipykernel/kernelbase.py\u001b[0m in \u001b[0;36mraw_input\u001b[0;34m(self, prompt)\u001b[0m\n\u001b[1;32m   1175\u001b[0m                 \u001b[0;34m\"raw_input was called, but this frontend does not support input requests.\"\u001b[0m\u001b[0;34m\u001b[0m\u001b[0;34m\u001b[0m\u001b[0m\n\u001b[1;32m   1176\u001b[0m             )\n\u001b[0;32m-> 1177\u001b[0;31m         return self._input_request(\n\u001b[0m\u001b[1;32m   1178\u001b[0m             \u001b[0mstr\u001b[0m\u001b[0;34m(\u001b[0m\u001b[0mprompt\u001b[0m\u001b[0;34m)\u001b[0m\u001b[0;34m,\u001b[0m\u001b[0;34m\u001b[0m\u001b[0;34m\u001b[0m\u001b[0m\n\u001b[1;32m   1179\u001b[0m             \u001b[0mself\u001b[0m\u001b[0;34m.\u001b[0m\u001b[0m_parent_ident\u001b[0m\u001b[0;34m[\u001b[0m\u001b[0;34m\"shell\"\u001b[0m\u001b[0;34m]\u001b[0m\u001b[0;34m,\u001b[0m\u001b[0;34m\u001b[0m\u001b[0;34m\u001b[0m\u001b[0m\n",
            "\u001b[0;32m/usr/local/lib/python3.11/dist-packages/ipykernel/kernelbase.py\u001b[0m in \u001b[0;36m_input_request\u001b[0;34m(self, prompt, ident, parent, password)\u001b[0m\n\u001b[1;32m   1217\u001b[0m             \u001b[0;32mexcept\u001b[0m \u001b[0mKeyboardInterrupt\u001b[0m\u001b[0;34m:\u001b[0m\u001b[0;34m\u001b[0m\u001b[0;34m\u001b[0m\u001b[0m\n\u001b[1;32m   1218\u001b[0m                 \u001b[0;31m# re-raise KeyboardInterrupt, to truncate traceback\u001b[0m\u001b[0;34m\u001b[0m\u001b[0;34m\u001b[0m\u001b[0m\n\u001b[0;32m-> 1219\u001b[0;31m                 \u001b[0;32mraise\u001b[0m \u001b[0mKeyboardInterrupt\u001b[0m\u001b[0;34m(\u001b[0m\u001b[0;34m\"Interrupted by user\"\u001b[0m\u001b[0;34m)\u001b[0m \u001b[0;32mfrom\u001b[0m \u001b[0;32mNone\u001b[0m\u001b[0;34m\u001b[0m\u001b[0;34m\u001b[0m\u001b[0m\n\u001b[0m\u001b[1;32m   1220\u001b[0m             \u001b[0;32mexcept\u001b[0m \u001b[0mException\u001b[0m\u001b[0;34m:\u001b[0m\u001b[0;34m\u001b[0m\u001b[0;34m\u001b[0m\u001b[0m\n\u001b[1;32m   1221\u001b[0m                 \u001b[0mself\u001b[0m\u001b[0;34m.\u001b[0m\u001b[0mlog\u001b[0m\u001b[0;34m.\u001b[0m\u001b[0mwarning\u001b[0m\u001b[0;34m(\u001b[0m\u001b[0;34m\"Invalid Message:\"\u001b[0m\u001b[0;34m,\u001b[0m \u001b[0mexc_info\u001b[0m\u001b[0;34m=\u001b[0m\u001b[0;32mTrue\u001b[0m\u001b[0;34m)\u001b[0m\u001b[0;34m\u001b[0m\u001b[0;34m\u001b[0m\u001b[0m\n",
            "\u001b[0;31mKeyboardInterrupt\u001b[0m: Interrupted by user"
          ]
        }
      ],
      "source": [
        "import requests\n",
        "import pandas as pd\n",
        "\n",
        "# API key\n",
        "API_KEY = \"\"\n",
        "BASE_URL = \"https://api.financeapi.net/v1\"\n",
        "\n",
        "def format_currency(value):\n",
        "    \"\"\"Format numbers as currency (e.g., $1,500,000).\"\"\"\n",
        "    try:\n",
        "        return f\"${int(value):,}\"\n",
        "    except ValueError:\n",
        "        return \"N/A\"\n",
        "\n",
        "def fetch_basic_stock_data():\n",
        "    \"\"\"Fetch stock ticker, company name, and current price for user-input symbols.\"\"\"\n",
        "    symbols = input(\"Enter stock symbols (comma-separated): \").split(\",\")\n",
        "    symbols = [symbol.strip().upper() for symbol in symbols]\n",
        "\n",
        "    for symbol in symbols:\n",
        "        try:\n",
        "            url = f\"{BASE_URL}/quote/{symbol}?apikey={API_KEY}\"\n",
        "            response = requests.get(url).json()\n",
        "\n",
        "            if response and \"data\" in response:\n",
        "                stock = response[\"data\"][0]\n",
        "                print(f\"\\nStock Ticker: {stock['symbol']}, Company: {stock['name']}, Current Market Price: {format_currency(stock['price'])}\")\n",
        "            else:\n",
        "                print(f\"Error fetching data for {symbol}\")\n",
        "        except Exception as e:\n",
        "            print(f\"Error: {e}\")\n",
        "\n",
        "def fetch_additional_data():\n",
        "    \"\"\"Fetch user-chosen stock data module and display it in a DataFrame.\"\"\"\n",
        "    symbols = input(\"\\nEnter stock symbols (comma-separated): \").split(\",\")\n",
        "    symbols = [symbol.strip().upper() for symbol in symbols]\n",
        "\n",
        "    modules = [\"yearHigh\", \"yearLow\", \"returnOnAssets\", \"marketCap\", \"peRatio\"]\n",
        "    print(\"\\nAvailable Modules:\", \", \".join(modules))\n",
        "    chosen_module = input(\"Enter a module: \").strip()\n",
        "\n",
        "    if chosen_module not in modules:\n",
        "        print(\"Invalid module.\")\n",
        "        return\n",
        "\n",
        "    data = []\n",
        "    for symbol in symbols:\n",
        "        try:\n",
        "            url = f\"{BASE_URL}/quote/{symbol}?apikey={API_KEY}\"\n",
        "            response = requests.get(url).json()\n",
        "\n",
        "            if response and \"data\" in response:\n",
        "                stock = response[\"data\"][0]\n",
        "                data.append({\n",
        "                    \"Stock Ticker\": stock[\"symbol\"],\n",
        "                    \"Company Name\": stock[\"name\"],\n",
        "                    chosen_module: format_currency(stock.get(chosen_module, \"N/A\"))\n",
        "                })\n",
        "        except Exception as e:\n",
        "            print(f\"Error fetching data for {symbol}: {e}\")\n",
        "\n",
        "    df = pd.DataFrame(data)\n",
        "    print(f\"\\nStock Data for {chosen_module}:\")\n",
        "    print(df)\n",
        "\n",
        "def fetch_trending_stocks():\n",
        "    \"\"\"Fetch trending stocks with their ticker, name, price, and 52-week high/low.\"\"\"\n",
        "    try:\n",
        "        url = f\"{BASE_URL}/market/trending?apikey={API_KEY}\"\n",
        "        response = requests.get(url).json()\n",
        "\n",
        "        if response and \"data\" in response:\n",
        "            data = [\n",
        "                {\n",
        "                    \"Stock Ticker\": stock[\"symbol\"],\n",
        "                    \"Company Name\": stock[\"name\"],\n",
        "                    \"Current Price\": format_currency(stock[\"price\"]),\n",
        "                    \"52-Week High\": format_currency(stock[\"yearHigh\"]),\n",
        "                    \"52-Week Low\": format_currency(stock[\"yearLow\"])\n",
        "                }\n",
        "                for stock in response[\"data\"][:5]  # Fetch top 5 trending stocks\n",
        "            ]\n",
        "\n",
        "            df = pd.DataFrame(data)\n",
        "            print(\"\\nTrending Stocks:\")\n",
        "            print(df)\n",
        "        else:\n",
        "            print(\"Error fetching trending stocks.\")\n",
        "    except Exception as e:\n",
        "        print(f\"Error: {e}\")\n",
        "\n",
        "if __name__ == \"__main__\":\n",
        "    print(\"Task 1: Fetch Basic Stock Data\")\n",
        "    fetch_basic_stock_data()\n",
        "\n",
        "    print(\"\\nTask 2.1: Fetch Additional Data Using Modules\")\n",
        "    fetch_additional_data()\n",
        "\n",
        "    print(\"\\nTask 2.2: Fetch Trending Stocks\")\n",
        "    fetch_trending_stocks()\n"
      ]
    }
  ]
}